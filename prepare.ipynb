{
 "cells": [
  {
   "cell_type": "code",
   "execution_count": 70,
   "metadata": {},
   "outputs": [
    {
     "data": {
      "text/html": [
       "<ol class=list-inline>\n",
       "\t<li>993</li>\n",
       "\t<li>63</li>\n",
       "</ol>\n"
      ],
      "text/latex": [
       "\\begin{enumerate*}\n",
       "\\item 993\n",
       "\\item 63\n",
       "\\end{enumerate*}\n"
      ],
      "text/markdown": [
       "1. 993\n",
       "2. 63\n",
       "\n",
       "\n"
      ],
      "text/plain": [
       "[1] 993  63"
      ]
     },
     "metadata": {},
     "output_type": "display_data"
    },
    {
     "data": {
      "text/html": [
       "<ol class=list-inline>\n",
       "\t<li>108</li>\n",
       "\t<li>21491</li>\n",
       "</ol>\n"
      ],
      "text/latex": [
       "\\begin{enumerate*}\n",
       "\\item 108\n",
       "\\item 21491\n",
       "\\end{enumerate*}\n"
      ],
      "text/markdown": [
       "1. 108\n",
       "2. 21491\n",
       "\n",
       "\n"
      ],
      "text/plain": [
       "[1]   108 21491"
      ]
     },
     "metadata": {},
     "output_type": "display_data"
    }
   ],
   "source": [
    "library(xlsx)\n",
    "options(warn=-1)\n",
    "data_full <- read.xlsx(\"TARGET_AML_ClinicalData_20160714.xlsx\",sheetIndex = 1, stringsAsFactors = FALSE)\n",
    "dimnames(data_full)[[1]] <- data_full[,1]\n",
    "dim(data_full)\n",
    "expn <- read.csv(\"AML_assay_clinical.csv\",header=TRUE)\n",
    "dimnames(expn)[[1]] <- expn[,1]\n",
    "expn <- expn[, -1]\n",
    "expn = expn[1:108,]\n",
    "dim(expn)"
   ]
  },
  {
   "cell_type": "code",
   "execution_count": 2,
   "metadata": {},
   "outputs": [],
   "source": [
    "binary_s2n<-function(mat,feature){\n",
    "    efst=mat$Event.Free.Survival.Time.in.Days\n",
    "    vec=mat[,feature]\n",
    "    dirty=which((vec==\"Unknown\")|(vec==\"Not done\"))\n",
    "    if (length(dirty)>0){\n",
    "        vec=vec[-dirty]\n",
    "        efst=efst[-dirty]}\n",
    "    vec=as.numeric(as.factor(vec))\n",
    "    pos=which(vec==1)\n",
    "    neg=which(vec==2)\n",
    "    pos_samp=efst[pos]\n",
    "    neg_samp=efst[neg]\n",
    "    m1=mean(pos_samp)\n",
    "    m2=mean(neg_samp)\n",
    "    sd1=sd(pos_samp)\n",
    "    sd2=sd(neg_samp)\n",
    "    return (abs(m1-m2)/(sd2+sd1))\n",
    "}"
   ]
  },
  {
   "cell_type": "code",
   "execution_count": 3,
   "metadata": {},
   "outputs": [],
   "source": [
    "binary_features=c('Gender','CNS.disease','Chloroma','t.6.9.','t.8.21.','t.3.5..q25.q34.','t.6.11..q27.q23.','t.9.11..p22.q23.','t.10.11..p11.2.q23.','t.11.19..q23.p13.1.','inv.16.','del5q','del7q','del9q','monosomy.7','trisomy.8','trisomy.21','MLL','Minus.Y','Minus.X')"
   ]
  },
  {
   "cell_type": "code",
   "execution_count": 4,
   "metadata": {},
   "outputs": [
    {
     "data": {
      "text/html": [
       "&lt;NA&gt;"
      ],
      "text/latex": [
       "<NA>"
      ],
      "text/markdown": [
       "&lt;NA&gt;"
      ],
      "text/plain": [
       "[1] NA"
      ]
     },
     "metadata": {},
     "output_type": "display_data"
    },
    {
     "data": {
      "text/html": [
       "<ol>\n",
       "\t<li>0.0315836102114537</li>\n",
       "\t<li>0.026828325929821</li>\n",
       "\t<li>0.176584900966326</li>\n",
       "\t<li>0.0439840116697074</li>\n",
       "\t<li>0.23508494293223</li>\n",
       "\t<li>0.688698745071736</li>\n",
       "\t<li>0.371903649223544</li>\n",
       "\t<li>0.109087934139112</li>\n",
       "\t<li>0.287670389998709</li>\n",
       "\t<li>0.012165419534272</li>\n",
       "\t<li>0.0869263146089804</li>\n",
       "\t<li>0.208618363796137</li>\n",
       "\t<li>0.0254272676216567</li>\n",
       "\t<li>0.0562111261537461</li>\n",
       "\t<li>0.3672974506602</li>\n",
       "\t<li>0.0507423601550244</li>\n",
       "\t<li>0.0595182291307194</li>\n",
       "\t<li>0.0277957139453005</li>\n",
       "\t<li>0.270769034466341</li>\n",
       "\t<li>0.258270870388365</li>\n",
       "</ol>\n"
      ],
      "text/latex": [
       "\\begin{enumerate}\n",
       "\\item 0.0315836102114537\n",
       "\\item 0.026828325929821\n",
       "\\item 0.176584900966326\n",
       "\\item 0.0439840116697074\n",
       "\\item 0.23508494293223\n",
       "\\item 0.688698745071736\n",
       "\\item 0.371903649223544\n",
       "\\item 0.109087934139112\n",
       "\\item 0.287670389998709\n",
       "\\item 0.012165419534272\n",
       "\\item 0.0869263146089804\n",
       "\\item 0.208618363796137\n",
       "\\item 0.0254272676216567\n",
       "\\item 0.0562111261537461\n",
       "\\item 0.3672974506602\n",
       "\\item 0.0507423601550244\n",
       "\\item 0.0595182291307194\n",
       "\\item 0.0277957139453005\n",
       "\\item 0.270769034466341\n",
       "\\item 0.258270870388365\n",
       "\\end{enumerate}\n"
      ],
      "text/markdown": [
       "1. 0.0315836102114537\n",
       "2. 0.026828325929821\n",
       "3. 0.176584900966326\n",
       "4. 0.0439840116697074\n",
       "5. 0.23508494293223\n",
       "6. 0.688698745071736\n",
       "7. 0.371903649223544\n",
       "8. 0.109087934139112\n",
       "9. 0.287670389998709\n",
       "10. 0.012165419534272\n",
       "11. 0.0869263146089804\n",
       "12. 0.208618363796137\n",
       "13. 0.0254272676216567\n",
       "14. 0.0562111261537461\n",
       "15. 0.3672974506602\n",
       "16. 0.0507423601550244\n",
       "17. 0.0595182291307194\n",
       "18. 0.0277957139453005\n",
       "19. 0.270769034466341\n",
       "20. 0.258270870388365\n",
       "\n",
       "\n"
      ],
      "text/plain": [
       "[[1]]\n",
       "[1] 0.03158361\n",
       "\n",
       "[[2]]\n",
       "[1] 0.02682833\n",
       "\n",
       "[[3]]\n",
       "[1] 0.1765849\n",
       "\n",
       "[[4]]\n",
       "[1] 0.04398401\n",
       "\n",
       "[[5]]\n",
       "[1] 0.2350849\n",
       "\n",
       "[[6]]\n",
       "[1] 0.6886987\n",
       "\n",
       "[[7]]\n",
       "[1] 0.3719036\n",
       "\n",
       "[[8]]\n",
       "[1] 0.1090879\n",
       "\n",
       "[[9]]\n",
       "[1] 0.2876704\n",
       "\n",
       "[[10]]\n",
       "[1] 0.01216542\n",
       "\n",
       "[[11]]\n",
       "[1] 0.08692631\n",
       "\n",
       "[[12]]\n",
       "[1] 0.2086184\n",
       "\n",
       "[[13]]\n",
       "[1] 0.02542727\n",
       "\n",
       "[[14]]\n",
       "[1] 0.05621113\n",
       "\n",
       "[[15]]\n",
       "[1] 0.3672975\n",
       "\n",
       "[[16]]\n",
       "[1] 0.05074236\n",
       "\n",
       "[[17]]\n",
       "[1] 0.05951823\n",
       "\n",
       "[[18]]\n",
       "[1] 0.02779571\n",
       "\n",
       "[[19]]\n",
       "[1] 0.270769\n",
       "\n",
       "[[20]]\n",
       "[1] 0.2582709\n"
      ]
     },
     "metadata": {},
     "output_type": "display_data"
    }
   ],
   "source": [
    "features2n=lapply(binary_features,function(x){return(binary_s2n(data_full,x))})\n",
    "binary_s2n(data_full,\"monosomy.5\")\n",
    "features2n"
   ]
  },
  {
   "cell_type": "code",
   "execution_count": 76,
   "metadata": {},
   "outputs": [],
   "source": [
    "gene_names=colnames(expn[85:21488])\n",
    "genescor=lapply(gene_names,function(x){return(cor(as.numeric(expn$Event.Free.Survival.Time.in.Days),exp(as.numeric(expn[,x])),use=\"complete.obs\"))})"
   ]
  },
  {
   "cell_type": "code",
   "execution_count": 78,
   "metadata": {},
   "outputs": [
    {
     "data": {
      "text/html": [
       "57"
      ],
      "text/latex": [
       "57"
      ],
      "text/markdown": [
       "57"
      ],
      "text/plain": [
       "[1] 57"
      ]
     },
     "metadata": {},
     "output_type": "display_data"
    },
    {
     "data": {
      "text/html": [
       "<ol>\n",
       "\t<li>0.514118615901824</li>\n",
       "</ol>\n"
      ],
      "text/latex": [
       "\\begin{enumerate}\n",
       "\\item 0.514118615901824\n",
       "\\end{enumerate}\n"
      ],
      "text/markdown": [
       "1. 0.514118615901824\n",
       "\n",
       "\n"
      ],
      "text/plain": [
       "[[1]]\n",
       "[1] 0.5141186\n"
      ]
     },
     "metadata": {},
     "output_type": "display_data"
    },
    {
     "data": {
      "text/html": [
       "'ENSG00000269743.2'"
      ],
      "text/latex": [
       "'ENSG00000269743.2'"
      ],
      "text/markdown": [
       "'ENSG00000269743.2'"
      ],
      "text/plain": [
       "[1] \"ENSG00000269743.2\""
      ]
     },
     "metadata": {},
     "output_type": "display_data"
    }
   ],
   "source": [
    "length(which(abs(as.numeric(genescor))>0.4))\n",
    "genescor[which.max(abs(as.numeric(genescor)))]\n",
    "gene_names[which.max(abs(as.numeric(genescor)))]"
   ]
  },
  {
   "cell_type": "code",
   "execution_count": 112,
   "metadata": {},
   "outputs": [],
   "source": [
    "selected_genes=gene_names[which(abs(as.numeric(genescor))>0.4)]\n",
    "expn_important=exp(expn[,selected_genes])\n",
    "expn_important$Event.Free.Survival.Time.in.Days=expn$Event.Free.Survival.Time.in.Days"
   ]
  },
  {
   "cell_type": "code",
   "execution_count": 126,
   "metadata": {
    "scrolled": true
   },
   "outputs": [
    {
     "data": {
      "text/html": [
       "<dl class=dl-horizontal>\n",
       "\t<dt>100</dt>\n",
       "\t\t<dd>1414.46779050879</dd>\n",
       "\t<dt>101</dt>\n",
       "\t\t<dd>89.0272429326925</dd>\n",
       "\t<dt>102</dt>\n",
       "\t\t<dd>604.215853007902</dd>\n",
       "\t<dt>103</dt>\n",
       "\t\t<dd>1807.35168643805</dd>\n",
       "\t<dt>104</dt>\n",
       "\t\t<dd>903.165232719288</dd>\n",
       "\t<dt>105</dt>\n",
       "\t\t<dd>953.714033372068</dd>\n",
       "\t<dt>106</dt>\n",
       "\t\t<dd>123.189045662409</dd>\n",
       "\t<dt>107</dt>\n",
       "\t\t<dd>1126.75945482214</dd>\n",
       "</dl>\n"
      ],
      "text/latex": [
       "\\begin{description*}\n",
       "\\item[100] 1414.46779050879\n",
       "\\item[101] 89.0272429326925\n",
       "\\item[102] 604.215853007902\n",
       "\\item[103] 1807.35168643805\n",
       "\\item[104] 903.165232719288\n",
       "\\item[105] 953.714033372068\n",
       "\\item[106] 123.189045662409\n",
       "\\item[107] 1126.75945482214\n",
       "\\end{description*}\n"
      ],
      "text/markdown": [
       "100\n",
       ":   1414.46779050879101\n",
       ":   89.0272429326925102\n",
       ":   604.215853007902103\n",
       ":   1807.35168643805104\n",
       ":   903.165232719288105\n",
       ":   953.714033372068106\n",
       ":   123.189045662409107\n",
       ":   1126.75945482214\n",
       "\n"
      ],
      "text/plain": [
       "       100        101        102        103        104        105        106 \n",
       "1414.46779   89.02724  604.21585 1807.35169  903.16523  953.71403  123.18905 \n",
       "       107 \n",
       "1126.75945 "
      ]
     },
     "metadata": {},
     "output_type": "display_data"
    },
    {
     "data": {
      "text/html": [
       "<ol class=list-inline>\n",
       "\t<li>2457</li>\n",
       "\t<li>318</li>\n",
       "\t<li>1798</li>\n",
       "\t<li>2760</li>\n",
       "\t<li>299</li>\n",
       "\t<li>294</li>\n",
       "\t<li>550</li>\n",
       "\t<li>1199</li>\n",
       "</ol>\n"
      ],
      "text/latex": [
       "\\begin{enumerate*}\n",
       "\\item 2457\n",
       "\\item 318\n",
       "\\item 1798\n",
       "\\item 2760\n",
       "\\item 299\n",
       "\\item 294\n",
       "\\item 550\n",
       "\\item 1199\n",
       "\\end{enumerate*}\n"
      ],
      "text/markdown": [
       "1. 2457\n",
       "2. 318\n",
       "3. 1798\n",
       "4. 2760\n",
       "5. 299\n",
       "6. 294\n",
       "7. 550\n",
       "8. 1199\n",
       "\n",
       "\n"
      ],
      "text/plain": [
       "[1] 2457  318 1798 2760  299  294  550 1199"
      ]
     },
     "metadata": {},
     "output_type": "display_data"
    }
   ],
   "source": [
    "train_batch=expn_important[1:100,]\n",
    "test_batch=expn_important[101:108,]\n",
    "res=lm(Event.Free.Survival.Time.in.Days ~ ., data=train_batch)\n",
    "bck=step(res,trace=0,direction=c(\"backward\"))\n",
    "#summary(bck)\n",
    "test_res=predict(bck,newdata=test_batch)\n",
    "test_res\n",
    "test_batch$Event.Free.Survival.Time.in.Days"
   ]
  },
  {
   "cell_type": "code",
   "execution_count": null,
   "metadata": {},
   "outputs": [],
   "source": []
  }
 ],
 "metadata": {
  "kernelspec": {
   "display_name": "R",
   "language": "R",
   "name": "ir"
  },
  "language_info": {
   "codemirror_mode": "r",
   "file_extension": ".r",
   "mimetype": "text/x-r-source",
   "name": "R",
   "pygments_lexer": "r",
   "version": "3.5.2"
  }
 },
 "nbformat": 4,
 "nbformat_minor": 2
}
